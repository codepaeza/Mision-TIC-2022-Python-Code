#Esto es una prueba para conectar python y Firebase para el control de granjas solares
