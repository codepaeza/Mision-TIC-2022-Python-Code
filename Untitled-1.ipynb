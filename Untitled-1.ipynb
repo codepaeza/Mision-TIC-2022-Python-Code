{
 "metadata": {
  "language_info": {
   "codemirror_mode": {
    "name": "ipython",
    "version": 3
   },
   "file_extension": ".py",
   "mimetype": "text/x-python",
   "name": "python",
   "nbconvert_exporter": "python",
   "pygments_lexer": "ipython3",
   "version": "3.9.1"
  },
  "orig_nbformat": 2,
  "kernelspec": {
   "name": "python391jvsc74a57bd0c96e83fcd65c3f32aa0589665df36fe6b552570891efec3d8229ba35ebfe02be",
   "display_name": "Python 3.9.1 64-bit"
  },
  "metadata": {
   "interpreter": {
    "hash": "c96e83fcd65c3f32aa0589665df36fe6b552570891efec3d8229ba35ebfe02be"
   }
  }
 },
 "nbformat": 4,
 "nbformat_minor": 2,
 "cells": [
  {
   "cell_type": "code",
   "execution_count": 1,
   "metadata": {},
   "outputs": [
    {
     "output_type": "stream",
     "name": "stdout",
     "text": [
      "Collecting numpy\n",
      "  Downloading numpy-1.20.3-cp39-cp39-win_amd64.whl (13.7 MB)\n",
      "Installing collected packages: numpy\n",
      "Successfully installed numpy-1.20.3\n",
      "WARNING: You are using pip version 20.2.3; however, version 21.1.2 is available.\n",
      "You should consider upgrading via the 'c:\\users\\portatil hp\\appdata\\local\\programs\\python\\python39\\python.exe -m pip install --upgrade pip' command.\n"
     ]
    }
   ],
   "source": [
    "! pip install numpy"
   ]
  },
  {
   "cell_type": "code",
   "execution_count": 3,
   "metadata": {},
   "outputs": [
    {
     "output_type": "stream",
     "name": "stdout",
     "text": [
      "['Juan' 'Andres']\n"
     ]
    }
   ],
   "source": [
    "from numpy import random as r\n",
    "print(r.choice(['Andres','Juan','Pedro', 'Mateo'], size= r.choice([1,2],p=[0.1,0.9]) , p=[0.5,0.2,0.2,0.1], replace=False))\n"
   ]
  },
  {
   "cell_type": "code",
   "execution_count": 4,
   "metadata": {},
   "outputs": [
    {
     "output_type": "stream",
     "name": "stdout",
     "text": [
      "Collecting pandas\n",
      "  Downloading pandas-1.2.4-cp39-cp39-win_amd64.whl (9.3 MB)\n",
      "Collecting pytz>=2017.3\n",
      "  Downloading pytz-2021.1-py2.py3-none-any.whl (510 kB)\n",
      "Requirement already satisfied: python-dateutil>=2.7.3 in c:\\users\\portatil hp\\appdata\\roaming\\python\\python39\\site-packages (from pandas) (2.8.1)\n",
      "Requirement already satisfied: numpy>=1.16.5 in c:\\users\\portatil hp\\appdata\\local\\programs\\python\\python39\\lib\\site-packages (from pandas) (1.20.3)\n",
      "Requirement already satisfied: six>=1.5 in c:\\users\\portatil hp\\appdata\\roaming\\python\\python39\\site-packages (from python-dateutil>=2.7.3->pandas) (1.16.0)\n",
      "Installing collected packages: pytz, pandas\n",
      "Successfully installed pandas-1.2.4 pytz-2021.1\n",
      "WARNING: You are using pip version 20.2.3; however, version 21.1.2 is available.\n",
      "You should consider upgrading via the 'c:\\users\\portatil hp\\appdata\\local\\programs\\python\\python39\\python.exe -m pip install --upgrade pip' command.\n"
     ]
    }
   ],
   "source": [
    "! pip install pandas"
   ]
  },
  {
   "cell_type": "code",
   "execution_count": 5,
   "metadata": {},
   "outputs": [
    {
     "output_type": "execute_result",
     "data": {
      "text/plain": [
       "   manzanas  naranjas\n",
       "0         3         0\n",
       "1         2         3\n",
       "2         0         7\n",
       "3         1         2"
      ],
      "text/html": "<div>\n<style scoped>\n    .dataframe tbody tr th:only-of-type {\n        vertical-align: middle;\n    }\n\n    .dataframe tbody tr th {\n        vertical-align: top;\n    }\n\n    .dataframe thead th {\n        text-align: right;\n    }\n</style>\n<table border=\"1\" class=\"dataframe\">\n  <thead>\n    <tr style=\"text-align: right;\">\n      <th></th>\n      <th>manzanas</th>\n      <th>naranjas</th>\n    </tr>\n  </thead>\n  <tbody>\n    <tr>\n      <th>0</th>\n      <td>3</td>\n      <td>0</td>\n    </tr>\n    <tr>\n      <th>1</th>\n      <td>2</td>\n      <td>3</td>\n    </tr>\n    <tr>\n      <th>2</th>\n      <td>0</td>\n      <td>7</td>\n    </tr>\n    <tr>\n      <th>3</th>\n      <td>1</td>\n      <td>2</td>\n    </tr>\n  </tbody>\n</table>\n</div>"
     },
     "metadata": {},
     "execution_count": 5
    }
   ],
   "source": [
    "import pandas as pd\n",
    "datos = { 'manzanas' : [ 3 , 2 , 0 , 1 ], 'naranjas' : [ 0 , 3 , 7 , 2 ] }\n",
    "compras = pd.DataFrame( datos )\n",
    "compras\n"
   ]
  },
  {
   "cell_type": "code",
   "execution_count": 6,
   "metadata": {},
   "outputs": [
    {
     "output_type": "execute_result",
     "data": {
      "text/plain": [
       "        manzanas  naranjas\n",
       "Juno           3         0\n",
       "Robert         2         3\n",
       "Lily           0         7\n",
       "David          1         2"
      ],
      "text/html": "<div>\n<style scoped>\n    .dataframe tbody tr th:only-of-type {\n        vertical-align: middle;\n    }\n\n    .dataframe tbody tr th {\n        vertical-align: top;\n    }\n\n    .dataframe thead th {\n        text-align: right;\n    }\n</style>\n<table border=\"1\" class=\"dataframe\">\n  <thead>\n    <tr style=\"text-align: right;\">\n      <th></th>\n      <th>manzanas</th>\n      <th>naranjas</th>\n    </tr>\n  </thead>\n  <tbody>\n    <tr>\n      <th>Juno</th>\n      <td>3</td>\n      <td>0</td>\n    </tr>\n    <tr>\n      <th>Robert</th>\n      <td>2</td>\n      <td>3</td>\n    </tr>\n    <tr>\n      <th>Lily</th>\n      <td>0</td>\n      <td>7</td>\n    </tr>\n    <tr>\n      <th>David</th>\n      <td>1</td>\n      <td>2</td>\n    </tr>\n  </tbody>\n</table>\n</div>"
     },
     "metadata": {},
     "execution_count": 6
    }
   ],
   "source": [
    "compras = pd.DataFrame( datos , index = [ 'Juno' , 'Robert' , 'Lily' , 'David' ])\n",
    "compras"
   ]
  },
  {
   "cell_type": "code",
   "execution_count": 8,
   "metadata": {},
   "outputs": [
    {
     "output_type": "execute_result",
     "data": {
      "text/plain": [
       "          Caso 1  Caso 2  Caso 3  Caso 4\n",
       "Medellin       0       1       2       3\n",
       "Cali           4       5       6       7\n",
       "Bogotá         8       9      10      11\n",
       "Girardot      12      13      14      15"
      ],
      "text/html": "<div>\n<style scoped>\n    .dataframe tbody tr th:only-of-type {\n        vertical-align: middle;\n    }\n\n    .dataframe tbody tr th {\n        vertical-align: top;\n    }\n\n    .dataframe thead th {\n        text-align: right;\n    }\n</style>\n<table border=\"1\" class=\"dataframe\">\n  <thead>\n    <tr style=\"text-align: right;\">\n      <th></th>\n      <th>Caso 1</th>\n      <th>Caso 2</th>\n      <th>Caso 3</th>\n      <th>Caso 4</th>\n    </tr>\n  </thead>\n  <tbody>\n    <tr>\n      <th>Medellin</th>\n      <td>0</td>\n      <td>1</td>\n      <td>2</td>\n      <td>3</td>\n    </tr>\n    <tr>\n      <th>Cali</th>\n      <td>4</td>\n      <td>5</td>\n      <td>6</td>\n      <td>7</td>\n    </tr>\n    <tr>\n      <th>Bogotá</th>\n      <td>8</td>\n      <td>9</td>\n      <td>10</td>\n      <td>11</td>\n    </tr>\n    <tr>\n      <th>Girardot</th>\n      <td>12</td>\n      <td>13</td>\n      <td>14</td>\n      <td>15</td>\n    </tr>\n  </tbody>\n</table>\n</div>"
     },
     "metadata": {},
     "execution_count": 8
    }
   ],
   "source": [
    "import numpy as np\n",
    "data = pd.DataFrame(np.arange(16).reshape((4,4)), index = ['Medellin','Cali','Bogotá','Girardot'], columns =['Caso 1','Caso 2', 'Caso 3', 'Caso 4'])\n",
    "data"
   ]
  },
  {
   "cell_type": "code",
   "execution_count": 10,
   "metadata": {},
   "outputs": [
    {
     "output_type": "error",
     "ename": "ImportError",
     "evalue": "Missing optional dependency 'xlrd'. Install xlrd >= 1.0.0 for Excel support Use pip or conda to install xlrd.",
     "traceback": [
      "\u001b[1;31m---------------------------------------------------------------------------\u001b[0m",
      "\u001b[1;31mImportError\u001b[0m                               Traceback (most recent call last)",
      "\u001b[1;32m<ipython-input-10-f0f0f8e7f6d2>\u001b[0m in \u001b[0;36m<module>\u001b[1;34m\u001b[0m\n\u001b[1;32m----> 1\u001b[1;33m \u001b[0mmiTiempo\u001b[0m\u001b[1;33m=\u001b[0m\u001b[0mpd\u001b[0m\u001b[1;33m.\u001b[0m\u001b[0mExcelFile\u001b[0m\u001b[1;33m(\u001b[0m\u001b[1;34m'D:\\Mi nuevo camino/tiempo_diario.xlsx'\u001b[0m\u001b[1;33m)\u001b[0m\u001b[1;33m\u001b[0m\u001b[1;33m\u001b[0m\u001b[0m\n\u001b[0m\u001b[0;32m      2\u001b[0m \u001b[0mpd\u001b[0m\u001b[1;33m.\u001b[0m\u001b[0mread_excel\u001b[0m\u001b[1;33m(\u001b[0m\u001b[0mxlsx\u001b[0m\u001b[1;33m,\u001b[0m \u001b[1;34m'Real'\u001b[0m\u001b[1;33m)\u001b[0m\u001b[1;33m\u001b[0m\u001b[1;33m\u001b[0m\u001b[0m\n",
      "\u001b[1;32m~\\AppData\\Local\\Programs\\Python\\Python39\\lib\\site-packages\\pandas\\io\\excel\\_base.py\u001b[0m in \u001b[0;36m__init__\u001b[1;34m(self, path_or_buffer, engine, storage_options)\u001b[0m\n\u001b[0;32m   1129\u001b[0m         \u001b[0mself\u001b[0m\u001b[1;33m.\u001b[0m\u001b[0mstorage_options\u001b[0m \u001b[1;33m=\u001b[0m \u001b[0mstorage_options\u001b[0m\u001b[1;33m\u001b[0m\u001b[1;33m\u001b[0m\u001b[0m\n\u001b[0;32m   1130\u001b[0m \u001b[1;33m\u001b[0m\u001b[0m\n\u001b[1;32m-> 1131\u001b[1;33m         \u001b[0mself\u001b[0m\u001b[1;33m.\u001b[0m\u001b[0m_reader\u001b[0m \u001b[1;33m=\u001b[0m \u001b[0mself\u001b[0m\u001b[1;33m.\u001b[0m\u001b[0m_engines\u001b[0m\u001b[1;33m[\u001b[0m\u001b[0mengine\u001b[0m\u001b[1;33m]\u001b[0m\u001b[1;33m(\u001b[0m\u001b[0mself\u001b[0m\u001b[1;33m.\u001b[0m\u001b[0m_io\u001b[0m\u001b[1;33m,\u001b[0m \u001b[0mstorage_options\u001b[0m\u001b[1;33m=\u001b[0m\u001b[0mstorage_options\u001b[0m\u001b[1;33m)\u001b[0m\u001b[1;33m\u001b[0m\u001b[1;33m\u001b[0m\u001b[0m\n\u001b[0m\u001b[0;32m   1132\u001b[0m \u001b[1;33m\u001b[0m\u001b[0m\n\u001b[0;32m   1133\u001b[0m     \u001b[1;32mdef\u001b[0m \u001b[0m__fspath__\u001b[0m\u001b[1;33m(\u001b[0m\u001b[0mself\u001b[0m\u001b[1;33m)\u001b[0m\u001b[1;33m:\u001b[0m\u001b[1;33m\u001b[0m\u001b[1;33m\u001b[0m\u001b[0m\n",
      "\u001b[1;32m~\\AppData\\Local\\Programs\\Python\\Python39\\lib\\site-packages\\pandas\\io\\excel\\_xlrd.py\u001b[0m in \u001b[0;36m__init__\u001b[1;34m(self, filepath_or_buffer, storage_options)\u001b[0m\n\u001b[0;32m     22\u001b[0m         \"\"\"\n\u001b[0;32m     23\u001b[0m         \u001b[0merr_msg\u001b[0m \u001b[1;33m=\u001b[0m \u001b[1;34m\"Install xlrd >= 1.0.0 for Excel support\"\u001b[0m\u001b[1;33m\u001b[0m\u001b[1;33m\u001b[0m\u001b[0m\n\u001b[1;32m---> 24\u001b[1;33m         \u001b[0mimport_optional_dependency\u001b[0m\u001b[1;33m(\u001b[0m\u001b[1;34m\"xlrd\"\u001b[0m\u001b[1;33m,\u001b[0m \u001b[0mextra\u001b[0m\u001b[1;33m=\u001b[0m\u001b[0merr_msg\u001b[0m\u001b[1;33m)\u001b[0m\u001b[1;33m\u001b[0m\u001b[1;33m\u001b[0m\u001b[0m\n\u001b[0m\u001b[0;32m     25\u001b[0m         \u001b[0msuper\u001b[0m\u001b[1;33m(\u001b[0m\u001b[1;33m)\u001b[0m\u001b[1;33m.\u001b[0m\u001b[0m__init__\u001b[0m\u001b[1;33m(\u001b[0m\u001b[0mfilepath_or_buffer\u001b[0m\u001b[1;33m,\u001b[0m \u001b[0mstorage_options\u001b[0m\u001b[1;33m=\u001b[0m\u001b[0mstorage_options\u001b[0m\u001b[1;33m)\u001b[0m\u001b[1;33m\u001b[0m\u001b[1;33m\u001b[0m\u001b[0m\n\u001b[0;32m     26\u001b[0m \u001b[1;33m\u001b[0m\u001b[0m\n",
      "\u001b[1;32m~\\AppData\\Local\\Programs\\Python\\Python39\\lib\\site-packages\\pandas\\compat\\_optional.py\u001b[0m in \u001b[0;36mimport_optional_dependency\u001b[1;34m(name, extra, raise_on_missing, on_version)\u001b[0m\n\u001b[0;32m    107\u001b[0m     \u001b[1;32mexcept\u001b[0m \u001b[0mImportError\u001b[0m\u001b[1;33m:\u001b[0m\u001b[1;33m\u001b[0m\u001b[1;33m\u001b[0m\u001b[0m\n\u001b[0;32m    108\u001b[0m         \u001b[1;32mif\u001b[0m \u001b[0mraise_on_missing\u001b[0m\u001b[1;33m:\u001b[0m\u001b[1;33m\u001b[0m\u001b[1;33m\u001b[0m\u001b[0m\n\u001b[1;32m--> 109\u001b[1;33m             \u001b[1;32mraise\u001b[0m \u001b[0mImportError\u001b[0m\u001b[1;33m(\u001b[0m\u001b[0mmsg\u001b[0m\u001b[1;33m)\u001b[0m \u001b[1;32mfrom\u001b[0m \u001b[1;32mNone\u001b[0m\u001b[1;33m\u001b[0m\u001b[1;33m\u001b[0m\u001b[0m\n\u001b[0m\u001b[0;32m    110\u001b[0m         \u001b[1;32melse\u001b[0m\u001b[1;33m:\u001b[0m\u001b[1;33m\u001b[0m\u001b[1;33m\u001b[0m\u001b[0m\n\u001b[0;32m    111\u001b[0m             \u001b[1;32mreturn\u001b[0m \u001b[1;32mNone\u001b[0m\u001b[1;33m\u001b[0m\u001b[1;33m\u001b[0m\u001b[0m\n",
      "\u001b[1;31mImportError\u001b[0m: Missing optional dependency 'xlrd'. Install xlrd >= 1.0.0 for Excel support Use pip or conda to install xlrd."
     ]
    }
   ],
   "source": [
    "miTiempo=pd.ExcelFile('D:\\Mi nuevo camino/tiempo_diario.xlsx')\n",
    "pd.read_excel(xlsx, 'Real')"
   ]
  },
  {
   "cell_type": "code",
   "execution_count": 11,
   "metadata": {},
   "outputs": [
    {
     "output_type": "stream",
     "name": "stdout",
     "text": [
      "Collecting xlrdWARNING: You are using pip version 20.2.3; however, version 21.1.2 is available.\n",
      "You should consider upgrading via the 'c:\\users\\portatil hp\\appdata\\local\\programs\\python\\python39\\python.exe -m pip install --upgrade pip' command.\n",
      "\n",
      "  Downloading xlrd-2.0.1-py2.py3-none-any.whl (96 kB)\n",
      "Installing collected packages: xlrd\n",
      "Successfully installed xlrd-2.0.1\n"
     ]
    }
   ],
   "source": [
    "! pip install xlrd"
   ]
  },
  {
   "cell_type": "code",
   "execution_count": 12,
   "metadata": {},
   "outputs": [
    {
     "output_type": "error",
     "ename": "ValueError",
     "evalue": "Your version of xlrd is 2.0.1. In xlrd >= 2.0, only the xls format is supported. Install openpyxl instead.",
     "traceback": [
      "\u001b[1;31m---------------------------------------------------------------------------\u001b[0m",
      "\u001b[1;31mValueError\u001b[0m                                Traceback (most recent call last)",
      "\u001b[1;32m<ipython-input-12-f0f0f8e7f6d2>\u001b[0m in \u001b[0;36m<module>\u001b[1;34m\u001b[0m\n\u001b[1;32m----> 1\u001b[1;33m \u001b[0mmiTiempo\u001b[0m\u001b[1;33m=\u001b[0m\u001b[0mpd\u001b[0m\u001b[1;33m.\u001b[0m\u001b[0mExcelFile\u001b[0m\u001b[1;33m(\u001b[0m\u001b[1;34m'D:\\Mi nuevo camino/tiempo_diario.xlsx'\u001b[0m\u001b[1;33m)\u001b[0m\u001b[1;33m\u001b[0m\u001b[1;33m\u001b[0m\u001b[0m\n\u001b[0m\u001b[0;32m      2\u001b[0m \u001b[0mpd\u001b[0m\u001b[1;33m.\u001b[0m\u001b[0mread_excel\u001b[0m\u001b[1;33m(\u001b[0m\u001b[0mxlsx\u001b[0m\u001b[1;33m,\u001b[0m \u001b[1;34m'Real'\u001b[0m\u001b[1;33m)\u001b[0m\u001b[1;33m\u001b[0m\u001b[1;33m\u001b[0m\u001b[0m\n",
      "\u001b[1;32m~\\AppData\\Local\\Programs\\Python\\Python39\\lib\\site-packages\\pandas\\io\\excel\\_base.py\u001b[0m in \u001b[0;36m__init__\u001b[1;34m(self, path_or_buffer, engine, storage_options)\u001b[0m\n\u001b[0;32m   1100\u001b[0m \u001b[1;33m\u001b[0m\u001b[0m\n\u001b[0;32m   1101\u001b[0m             \u001b[1;32mif\u001b[0m \u001b[0mext\u001b[0m \u001b[1;33m!=\u001b[0m \u001b[1;34m\"xls\"\u001b[0m \u001b[1;32mand\u001b[0m \u001b[0mxlrd_version\u001b[0m \u001b[1;33m>=\u001b[0m \u001b[1;34m\"2\"\u001b[0m\u001b[1;33m:\u001b[0m\u001b[1;33m\u001b[0m\u001b[1;33m\u001b[0m\u001b[0m\n\u001b[1;32m-> 1102\u001b[1;33m                 raise ValueError(\n\u001b[0m\u001b[0;32m   1103\u001b[0m                     \u001b[1;34mf\"Your version of xlrd is {xlrd_version}. In xlrd >= 2.0, \"\u001b[0m\u001b[1;33m\u001b[0m\u001b[1;33m\u001b[0m\u001b[0m\n\u001b[0;32m   1104\u001b[0m                     \u001b[1;34mf\"only the xls format is supported. Install openpyxl instead.\"\u001b[0m\u001b[1;33m\u001b[0m\u001b[1;33m\u001b[0m\u001b[0m\n",
      "\u001b[1;31mValueError\u001b[0m: Your version of xlrd is 2.0.1. In xlrd >= 2.0, only the xls format is supported. Install openpyxl instead."
     ]
    }
   ],
   "source": [
    "miTiempo=pd.ExcelFile('D:\\Mi nuevo camino/tiempo_diario.xlsx')\n",
    "pd.read_excel(xlsx, 'Real')"
   ]
  },
  {
   "cell_type": "code",
   "execution_count": 13,
   "metadata": {},
   "outputs": [
    {
     "output_type": "stream",
     "name": "stdout",
     "text": [
      "Collecting openpyxlWARNING: You are using pip version 20.2.3; however, version 21.1.2 is available.\n",
      "You should consider upgrading via the 'c:\\users\\portatil hp\\appdata\\local\\programs\\python\\python39\\python.exe -m pip install --upgrade pip' command.\n",
      "\n",
      "  Downloading openpyxl-3.0.7-py2.py3-none-any.whl (243 kB)\n",
      "Collecting et-xmlfile\n",
      "  Downloading et_xmlfile-1.1.0-py3-none-any.whl (4.7 kB)\n",
      "Installing collected packages: et-xmlfile, openpyxl\n",
      "Successfully installed et-xmlfile-1.1.0 openpyxl-3.0.7\n"
     ]
    }
   ],
   "source": [
    "! pip install openpyxl"
   ]
  },
  {
   "cell_type": "code",
   "execution_count": 14,
   "metadata": {},
   "outputs": [
    {
     "output_type": "error",
     "ename": "NameError",
     "evalue": "name 'xlsx' is not defined",
     "traceback": [
      "\u001b[1;31m---------------------------------------------------------------------------\u001b[0m",
      "\u001b[1;31mNameError\u001b[0m                                 Traceback (most recent call last)",
      "\u001b[1;32m<ipython-input-14-f0f0f8e7f6d2>\u001b[0m in \u001b[0;36m<module>\u001b[1;34m\u001b[0m\n\u001b[0;32m      1\u001b[0m \u001b[0mmiTiempo\u001b[0m\u001b[1;33m=\u001b[0m\u001b[0mpd\u001b[0m\u001b[1;33m.\u001b[0m\u001b[0mExcelFile\u001b[0m\u001b[1;33m(\u001b[0m\u001b[1;34m'D:\\Mi nuevo camino/tiempo_diario.xlsx'\u001b[0m\u001b[1;33m)\u001b[0m\u001b[1;33m\u001b[0m\u001b[1;33m\u001b[0m\u001b[0m\n\u001b[1;32m----> 2\u001b[1;33m \u001b[0mpd\u001b[0m\u001b[1;33m.\u001b[0m\u001b[0mread_excel\u001b[0m\u001b[1;33m(\u001b[0m\u001b[0mxlsx\u001b[0m\u001b[1;33m,\u001b[0m \u001b[1;34m'Real'\u001b[0m\u001b[1;33m)\u001b[0m\u001b[1;33m\u001b[0m\u001b[1;33m\u001b[0m\u001b[0m\n\u001b[0m",
      "\u001b[1;31mNameError\u001b[0m: name 'xlsx' is not defined"
     ]
    }
   ],
   "source": [
    "miTiempo=pd.ExcelFile('D:\\Mi nuevo camino/tiempo_diario.xlsx')\n",
    "pd.read_excel(xlsx, 'Real')"
   ]
  },
  {
   "cell_type": "code",
   "execution_count": 15,
   "metadata": {},
   "outputs": [
    {
     "output_type": "execute_result",
     "data": {
      "text/plain": [
       "         Fecha  Maps Visible  Eureka Telepresencial  Ingenieria Eléctrica  \\\n",
       "0   2020-09-21           4.0                    0.0                  2.25   \n",
       "1   2020-09-22           1.5                    0.0                  4.50   \n",
       "2   2020-09-23           1.5                    4.0                  3.00   \n",
       "3   2020-09-24           5.0                    0.0                  1.00   \n",
       "4   2020-09-25           0.0                    4.5                  2.00   \n",
       "..         ...           ...                    ...                   ...   \n",
       "254 2021-06-02           NaN                    NaN                   NaN   \n",
       "255 2021-06-03           NaN                    NaN                   NaN   \n",
       "256 2021-06-04           NaN                    NaN                   NaN   \n",
       "257 2021-06-05           NaN                    NaN                   NaN   \n",
       "258 2021-06-06           NaN                    NaN                   NaN   \n",
       "\n",
       "     Estudio Tecnología  Inglés  Total        Dia  Acumulado  Unnamed: 9  \n",
       "0                   1.5     0.0   7.75      Lunes       7.75         NaN  \n",
       "1                   0.0     0.0   6.00     Martes      13.75         NaN  \n",
       "2                   2.5     2.0  13.00  Miércoles      26.75         NaN  \n",
       "3                   2.0     1.0   9.00     Jueves      35.75         NaN  \n",
       "4                   2.5     0.0   9.00    Viernes      44.75         NaN  \n",
       "..                  ...     ...    ...        ...        ...         ...  \n",
       "254                 NaN     NaN   0.00  Miércoles    1908.25         NaN  \n",
       "255                 NaN     NaN   0.00     Jueves    1908.25         NaN  \n",
       "256                 NaN     NaN   0.00    Viernes    1908.25         NaN  \n",
       "257                 NaN     NaN   0.00     Sábado    1908.25         NaN  \n",
       "258                 NaN     NaN   0.00    Domingo    1908.25         NaN  \n",
       "\n",
       "[259 rows x 10 columns]"
      ],
      "text/html": "<div>\n<style scoped>\n    .dataframe tbody tr th:only-of-type {\n        vertical-align: middle;\n    }\n\n    .dataframe tbody tr th {\n        vertical-align: top;\n    }\n\n    .dataframe thead th {\n        text-align: right;\n    }\n</style>\n<table border=\"1\" class=\"dataframe\">\n  <thead>\n    <tr style=\"text-align: right;\">\n      <th></th>\n      <th>Fecha</th>\n      <th>Maps Visible</th>\n      <th>Eureka Telepresencial</th>\n      <th>Ingenieria Eléctrica</th>\n      <th>Estudio Tecnología</th>\n      <th>Inglés</th>\n      <th>Total</th>\n      <th>Dia</th>\n      <th>Acumulado</th>\n      <th>Unnamed: 9</th>\n    </tr>\n  </thead>\n  <tbody>\n    <tr>\n      <th>0</th>\n      <td>2020-09-21</td>\n      <td>4.0</td>\n      <td>0.0</td>\n      <td>2.25</td>\n      <td>1.5</td>\n      <td>0.0</td>\n      <td>7.75</td>\n      <td>Lunes</td>\n      <td>7.75</td>\n      <td>NaN</td>\n    </tr>\n    <tr>\n      <th>1</th>\n      <td>2020-09-22</td>\n      <td>1.5</td>\n      <td>0.0</td>\n      <td>4.50</td>\n      <td>0.0</td>\n      <td>0.0</td>\n      <td>6.00</td>\n      <td>Martes</td>\n      <td>13.75</td>\n      <td>NaN</td>\n    </tr>\n    <tr>\n      <th>2</th>\n      <td>2020-09-23</td>\n      <td>1.5</td>\n      <td>4.0</td>\n      <td>3.00</td>\n      <td>2.5</td>\n      <td>2.0</td>\n      <td>13.00</td>\n      <td>Miércoles</td>\n      <td>26.75</td>\n      <td>NaN</td>\n    </tr>\n    <tr>\n      <th>3</th>\n      <td>2020-09-24</td>\n      <td>5.0</td>\n      <td>0.0</td>\n      <td>1.00</td>\n      <td>2.0</td>\n      <td>1.0</td>\n      <td>9.00</td>\n      <td>Jueves</td>\n      <td>35.75</td>\n      <td>NaN</td>\n    </tr>\n    <tr>\n      <th>4</th>\n      <td>2020-09-25</td>\n      <td>0.0</td>\n      <td>4.5</td>\n      <td>2.00</td>\n      <td>2.5</td>\n      <td>0.0</td>\n      <td>9.00</td>\n      <td>Viernes</td>\n      <td>44.75</td>\n      <td>NaN</td>\n    </tr>\n    <tr>\n      <th>...</th>\n      <td>...</td>\n      <td>...</td>\n      <td>...</td>\n      <td>...</td>\n      <td>...</td>\n      <td>...</td>\n      <td>...</td>\n      <td>...</td>\n      <td>...</td>\n      <td>...</td>\n    </tr>\n    <tr>\n      <th>254</th>\n      <td>2021-06-02</td>\n      <td>NaN</td>\n      <td>NaN</td>\n      <td>NaN</td>\n      <td>NaN</td>\n      <td>NaN</td>\n      <td>0.00</td>\n      <td>Miércoles</td>\n      <td>1908.25</td>\n      <td>NaN</td>\n    </tr>\n    <tr>\n      <th>255</th>\n      <td>2021-06-03</td>\n      <td>NaN</td>\n      <td>NaN</td>\n      <td>NaN</td>\n      <td>NaN</td>\n      <td>NaN</td>\n      <td>0.00</td>\n      <td>Jueves</td>\n      <td>1908.25</td>\n      <td>NaN</td>\n    </tr>\n    <tr>\n      <th>256</th>\n      <td>2021-06-04</td>\n      <td>NaN</td>\n      <td>NaN</td>\n      <td>NaN</td>\n      <td>NaN</td>\n      <td>NaN</td>\n      <td>0.00</td>\n      <td>Viernes</td>\n      <td>1908.25</td>\n      <td>NaN</td>\n    </tr>\n    <tr>\n      <th>257</th>\n      <td>2021-06-05</td>\n      <td>NaN</td>\n      <td>NaN</td>\n      <td>NaN</td>\n      <td>NaN</td>\n      <td>NaN</td>\n      <td>0.00</td>\n      <td>Sábado</td>\n      <td>1908.25</td>\n      <td>NaN</td>\n    </tr>\n    <tr>\n      <th>258</th>\n      <td>2021-06-06</td>\n      <td>NaN</td>\n      <td>NaN</td>\n      <td>NaN</td>\n      <td>NaN</td>\n      <td>NaN</td>\n      <td>0.00</td>\n      <td>Domingo</td>\n      <td>1908.25</td>\n      <td>NaN</td>\n    </tr>\n  </tbody>\n</table>\n<p>259 rows × 10 columns</p>\n</div>"
     },
     "metadata": {},
     "execution_count": 15
    }
   ],
   "source": [
    "miTiempo=pd.ExcelFile('D:\\Mi nuevo camino/tiempo_diario.xlsx')\n",
    "pd.read_excel(miTiempo, 'Real')"
   ]
  },
  {
   "cell_type": "code",
   "execution_count": 7,
   "metadata": {},
   "outputs": [
    {
     "output_type": "execute_result",
     "data": {
      "text/plain": [
       "Enero      15\n",
       "Febrero    12\n",
       "Marzo      21\n",
       "dtype: int64"
      ]
     },
     "metadata": {},
     "execution_count": 7
    }
   ],
   "source": [
    "import pandas as pd\n",
    "venta=pd.Series([15,12,21], index=[\"Enero\", \"Febrero\", \"Marzo\"])\n",
    "venta\n"
   ]
  },
  {
   "cell_type": "code",
   "execution_count": 8,
   "metadata": {},
   "outputs": [
    {
     "output_type": "execute_result",
     "data": {
      "text/plain": [
       "12"
      ]
     },
     "metadata": {},
     "execution_count": 8
    }
   ],
   "source": [
    "import pandas as pd\n",
    "venta=pd.Series([15,12,21], index=[\"Enero\", \"Febrero\", \"Marzo\"])\n",
    "venta[1]"
   ]
  },
  {
   "cell_type": "code",
   "execution_count": 9,
   "metadata": {},
   "outputs": [
    {
     "output_type": "execute_result",
     "data": {
      "text/plain": [
       "15"
      ]
     },
     "metadata": {},
     "execution_count": 9
    }
   ],
   "source": [
    "import pandas as pd\n",
    "venta=pd.Series([15,12,21], index=[\"Enero\", \"Febrero\", \"Marzo\"])\n",
    "venta[\"Enero\"]"
   ]
  },
  {
   "cell_type": "code",
   "execution_count": 10,
   "metadata": {},
   "outputs": [
    {
     "output_type": "execute_result",
     "data": {
      "text/plain": [
       "dtype('int64')"
      ]
     },
     "metadata": {},
     "execution_count": 10
    }
   ],
   "source": [
    "import pandas as pd\n",
    "venta=pd.Series([15,12,21], index=[\"Enero\", \"Febrero\", \"Marzo\"])\n",
    "venta.dtype"
   ]
  },
  {
   "cell_type": "code",
   "execution_count": 11,
   "metadata": {},
   "outputs": [
    {
     "output_type": "execute_result",
     "data": {
      "text/plain": [
       "Index(['Enero', 'Febrero', 'Marzo'], dtype='object')"
      ]
     },
     "metadata": {},
     "execution_count": 11
    }
   ],
   "source": [
    "import pandas as pd\n",
    "venta=pd.Series([15,12,21], index=[\"Enero\", \"Febrero\", \"Marzo\"])\n",
    "venta.index"
   ]
  },
  {
   "cell_type": "code",
   "execution_count": 12,
   "metadata": {},
   "outputs": [
    {
     "output_type": "execute_result",
     "data": {
      "text/plain": [
       "array([15, 12, 21], dtype=int64)"
      ]
     },
     "metadata": {},
     "execution_count": 12
    }
   ],
   "source": [
    "import pandas as pd\n",
    "venta=pd.Series([15,12,21], index=[\"Enero\", \"Febrero\", \"Marzo\"])\n",
    "venta.values"
   ]
  },
  {
   "cell_type": "code",
   "execution_count": 6,
   "metadata": {},
   "outputs": [],
   "source": [
    "import pandas as pd\n",
    "data = {'first_name': ['Sigrid', 'Joe', 'Theodoric','Kennedy', 'Beatrix', 'Olimpia', 'Grange', 'Sallee'],\n",
    "        'last_name': ['Mannock', 'Hinners', 'Rivers', 'Donnell', 'Parlett', 'Guenther', 'Douce', 'Johnstone'],\n",
    "        'age': [27, 31, 36, 53, 48, 36, 40, 34],\n",
    "        'amount_1': [7.17, 1.90, 1.11, 1.41, 6.69, 4.62, 1.01, 4.88],\n",
    "        'amount_2': [8.06,  \"?\", 5.90,  \"?\",  \"?\", 7.48, 4.37,  \"?\"]}\n",
    "\n",
    "df = pd.DataFrame(data, columns = ['first_name', 'last_name', 'age', 'amount_1', 'amount_2'])\n",
    "\n",
    "df.to_excel('D:/Nueva carpeta/example.xlsx', sheet_name='example')"
   ]
  },
  {
   "cell_type": "code",
   "execution_count": 11,
   "metadata": {},
   "outputs": [
    {
     "output_type": "execute_result",
     "data": {
      "text/plain": [
       "   Unnamed: 0 first_name  last_name  age  amount_1 amount_2\n",
       "0           0     Sigrid    Mannock   27      7.17     8.06\n",
       "1           1        Joe    Hinners   31      1.90        ?\n",
       "2           2  Theodoric     Rivers   36      1.11      5.9\n",
       "3           3    Kennedy    Donnell   53      1.41        ?\n",
       "4           4    Beatrix    Parlett   48      6.69        ?\n",
       "5           5    Olimpia   Guenther   36      4.62     7.48\n",
       "6           6     Grange      Douce   40      1.01     4.37\n",
       "7           7     Sallee  Johnstone   34      4.88        ?"
      ],
      "text/html": "<div>\n<style scoped>\n    .dataframe tbody tr th:only-of-type {\n        vertical-align: middle;\n    }\n\n    .dataframe tbody tr th {\n        vertical-align: top;\n    }\n\n    .dataframe thead th {\n        text-align: right;\n    }\n</style>\n<table border=\"1\" class=\"dataframe\">\n  <thead>\n    <tr style=\"text-align: right;\">\n      <th></th>\n      <th>Unnamed: 0</th>\n      <th>first_name</th>\n      <th>last_name</th>\n      <th>age</th>\n      <th>amount_1</th>\n      <th>amount_2</th>\n    </tr>\n  </thead>\n  <tbody>\n    <tr>\n      <th>0</th>\n      <td>0</td>\n      <td>Sigrid</td>\n      <td>Mannock</td>\n      <td>27</td>\n      <td>7.17</td>\n      <td>8.06</td>\n    </tr>\n    <tr>\n      <th>1</th>\n      <td>1</td>\n      <td>Joe</td>\n      <td>Hinners</td>\n      <td>31</td>\n      <td>1.90</td>\n      <td>?</td>\n    </tr>\n    <tr>\n      <th>2</th>\n      <td>2</td>\n      <td>Theodoric</td>\n      <td>Rivers</td>\n      <td>36</td>\n      <td>1.11</td>\n      <td>5.9</td>\n    </tr>\n    <tr>\n      <th>3</th>\n      <td>3</td>\n      <td>Kennedy</td>\n      <td>Donnell</td>\n      <td>53</td>\n      <td>1.41</td>\n      <td>?</td>\n    </tr>\n    <tr>\n      <th>4</th>\n      <td>4</td>\n      <td>Beatrix</td>\n      <td>Parlett</td>\n      <td>48</td>\n      <td>6.69</td>\n      <td>?</td>\n    </tr>\n    <tr>\n      <th>5</th>\n      <td>5</td>\n      <td>Olimpia</td>\n      <td>Guenther</td>\n      <td>36</td>\n      <td>4.62</td>\n      <td>7.48</td>\n    </tr>\n    <tr>\n      <th>6</th>\n      <td>6</td>\n      <td>Grange</td>\n      <td>Douce</td>\n      <td>40</td>\n      <td>1.01</td>\n      <td>4.37</td>\n    </tr>\n    <tr>\n      <th>7</th>\n      <td>7</td>\n      <td>Sallee</td>\n      <td>Johnstone</td>\n      <td>34</td>\n      <td>4.88</td>\n      <td>?</td>\n    </tr>\n  </tbody>\n</table>\n</div>"
     },
     "metadata": {},
     "execution_count": 11
    }
   ],
   "source": [
    "import pandas as pd\n",
    "df = pd.ExcelFile('D:/Nueva carpeta/example1.xlsx')\n",
    "pd.read_excel(df, 'example')"
   ]
  },
  {
   "cell_type": "code",
   "execution_count": 12,
   "metadata": {},
   "outputs": [],
   "source": [
    "import json\n",
    "\n",
    "data = {}\n",
    "data['clients'] = []\n",
    "\n",
    "data['clients'].append({\n",
    "    'first_name': 'Sigrid',\n",
    "    'last_name': 'Mannock',\n",
    "    'age': 27,\n",
    "    'amount': 7.17})\n",
    "\n",
    "data['clients'].append({\n",
    "    'first_name': 'Joe',\n",
    "    'last_name': 'Hinners',\n",
    "    'age': 31,\n",
    "    'amount': [1.90, 5.50]})\n",
    "\n",
    "data['clients'].append({\n",
    "    'first_name': 'Theodoric',\n",
    "    'last_name': 'Rivers',\n",
    "    'age': 36,\n",
    "    'amount': 1.11})\n",
    "\n",
    "with open('data.json', 'w') as file:\n",
    "    json.dump(data, file, indent=4)\n"
   ]
  },
  {
   "cell_type": "code",
   "execution_count": 14,
   "metadata": {},
   "outputs": [
    {
     "output_type": "error",
     "ename": "ModuleNotFoundError",
     "evalue": "No module named 'request'",
     "traceback": [
      "\u001b[1;31m---------------------------------------------------------------------------\u001b[0m",
      "\u001b[1;31mModuleNotFoundError\u001b[0m                       Traceback (most recent call last)",
      "\u001b[1;32m<ipython-input-14-b76070793fa5>\u001b[0m in \u001b[0;36m<module>\u001b[1;34m\u001b[0m\n\u001b[1;32m----> 1\u001b[1;33m \u001b[1;32mimport\u001b[0m \u001b[0mrequest\u001b[0m\u001b[1;33m\u001b[0m\u001b[1;33m\u001b[0m\u001b[0m\n\u001b[0m\u001b[0;32m      2\u001b[0m \u001b[1;33m\u001b[0m\u001b[0m\n\u001b[0;32m      3\u001b[0m \u001b[0mresp\u001b[0m \u001b[1;33m=\u001b[0m \u001b[0mrequest\u001b[0m\u001b[1;33m.\u001b[0m\u001b[0mget\u001b[0m\u001b[1;33m(\u001b[0m\u001b[1;34m'http://ip-api.com/json/208.80.152.201'\u001b[0m\u001b[1;33m)\u001b[0m\u001b[1;33m\u001b[0m\u001b[1;33m\u001b[0m\u001b[0m\n\u001b[0;32m      4\u001b[0m \u001b[0mjson\u001b[0m\u001b[1;33m.\u001b[0m\u001b[0mloads\u001b[0m\u001b[1;33m(\u001b[0m\u001b[0mresp\u001b[0m\u001b[1;33m.\u001b[0m\u001b[0mcontent\u001b[0m\u001b[1;33m)\u001b[0m\u001b[1;33m\u001b[0m\u001b[1;33m\u001b[0m\u001b[0m\n",
      "\u001b[1;31mModuleNotFoundError\u001b[0m: No module named 'request'"
     ]
    }
   ],
   "source": [
    "import requests\n",
    "\n",
    "resp = requests.get('http://ip-api.com/json/208.80.152.201')\n",
    "json.loads(resp.content)\n"
   ]
  },
  {
   "cell_type": "code",
   "execution_count": null,
   "metadata": {},
   "outputs": [],
   "source": []
  }
 ]
}