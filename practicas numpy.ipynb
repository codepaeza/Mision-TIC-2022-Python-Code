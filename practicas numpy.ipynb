from numpy import randomas r
print(r.choice(['Andres, 'Juan', 'Pedro', 'Mateo'], size=r.choice([1,2], p=[0.1, 0.9], p=[0.5, 0.2, 0.2, 0.1], replace=false)
